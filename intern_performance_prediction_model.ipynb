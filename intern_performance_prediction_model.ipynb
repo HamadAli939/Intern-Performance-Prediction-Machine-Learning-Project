{
  "cells": [
    {
      "cell_type": "markdown",
      "id": "64fe97d1-e2f8-4127-9db9-ccfe4e2ee19c",
      "metadata": {
        "id": "64fe97d1-e2f8-4127-9db9-ccfe4e2ee19c"
      },
      "source": [
        "# 📊 Intern Performance Prediction using Machine Learning\n",
        "\n",
        "This project uses **Logistic Regression** and **Random Forest Classifier** to predict intern performance based on behavioral and productivity metrics such as attendance rate, task completion rate, feedback scores, and more."
      ]
    },
    {
      "cell_type": "markdown",
      "id": "18be9d70-9ade-48c4-b830-27f3da9541d8",
      "metadata": {
        "id": "18be9d70-9ade-48c4-b830-27f3da9541d8"
      },
      "source": [
        "## 🧹 Step 1: Load & Preprocess Dataset\n",
        "\n",
        "We begin by importing necessary libraries and loading the dataset."
      ]
    },
    {
      "cell_type": "code",
      "source": [
        "from google.colab import drive\n",
        "drive.mount('/content/drive')"
      ],
      "metadata": {
        "colab": {
          "base_uri": "https://localhost:8080/"
        },
        "id": "N0mz3bmcuG5O",
        "outputId": "bff6c8a4-3756-4910-e93a-fe67a8eb17a0"
      },
      "id": "N0mz3bmcuG5O",
      "execution_count": 2,
      "outputs": [
        {
          "output_type": "stream",
          "name": "stdout",
          "text": [
            "Mounted at /content/drive\n"
          ]
        }
      ]
    },
    {
      "cell_type": "code",
      "execution_count": null,
      "id": "ae2ec90d-7fdf-4ba6-992b-5ac646fc01df",
      "metadata": {
        "id": "ae2ec90d-7fdf-4ba6-992b-5ac646fc01df"
      },
      "outputs": [],
      "source": [
        "import pandas as pd\n",
        "from sklearn.model_selection import train_test_split\n",
        "from sklearn.preprocessing import LabelEncoder, StandardScaler\n",
        "\n",
        "# Load data\n",
        "df = pd.read_csv(\"/content/drive/MyDrive/hammad ds/intern_performance_dataset.xls\")"
      ]
    },
    {
      "cell_type": "markdown",
      "id": "de0c0b14-3d67-4623-a698-2aa6f9894168",
      "metadata": {
        "id": "de0c0b14-3d67-4623-a698-2aa6f9894168"
      },
      "source": [
        "## 🧠 Step 2: Encode Categorical Columns\n",
        "\n",
        "We use Label Encoding to convert categorical features like `department` and `interaction_level` into numeric format so that machine learning algorithms can process them."
      ]
    },
    {
      "cell_type": "code",
      "execution_count": null,
      "id": "604e84f9-ceab-4681-bfda-2d3a89866ead",
      "metadata": {
        "id": "604e84f9-ceab-4681-bfda-2d3a89866ead"
      },
      "outputs": [],
      "source": [
        "# Encode department and interaction level\n",
        "le = LabelEncoder()\n",
        "df['department_encoded'] = le.fit_transform(df['department'])\n",
        "df['interaction_level_encoded'] = le.fit_transform(df['interaction_level'])"
      ]
    },
    {
      "cell_type": "markdown",
      "id": "5582f060-7e68-4446-97c6-7aab1ee45ccf",
      "metadata": {
        "id": "5582f060-7e68-4446-97c6-7aab1ee45ccf"
      },
      "source": [
        "## 🧮 Step 3: Select Features and Target\n",
        "\n",
        "We define the features that will be used to train the model and select the target variable `performance_label`, which we want to predict.\n"
      ]
    },
    {
      "cell_type": "code",
      "execution_count": null,
      "id": "6845be36-7813-4942-a433-3e96f4da5d59",
      "metadata": {
        "id": "6845be36-7813-4942-a433-3e96f4da5d59"
      },
      "outputs": [],
      "source": [
        "features = [\n",
        "    'attendance_rate',\n",
        "    'task_completion_rate',\n",
        "    'avg_feedback_score',\n",
        "    'hours_per_week',\n",
        "    'final_assessment_score',\n",
        "    'department_encoded',\n",
        "    'interaction_level_encoded'\n",
        "]\n",
        "target = 'performance_label'\n",
        "\n",
        "X = df[features]\n",
        "y = df[target]"
      ]
    },
    {
      "cell_type": "markdown",
      "id": "bc754df0-fd70-49ea-9810-7c85146041fd",
      "metadata": {
        "id": "bc754df0-fd70-49ea-9810-7c85146041fd"
      },
      "source": [
        "## 📏 Step 4: Scale the Features\n",
        "\n",
        "To normalize the data, we use `StandardScaler` so that each feature contributes equally to model performance.\n"
      ]
    },
    {
      "cell_type": "code",
      "execution_count": null,
      "id": "a7bfc70f-33f3-498e-910d-865f54e9b565",
      "metadata": {
        "id": "a7bfc70f-33f3-498e-910d-865f54e9b565"
      },
      "outputs": [],
      "source": [
        "scaler = StandardScaler()\n",
        "X_scaled = scaler.fit_transform(X)"
      ]
    },
    {
      "cell_type": "markdown",
      "id": "909eda44-b36a-40a6-a793-578358ae14e1",
      "metadata": {
        "id": "909eda44-b36a-40a6-a793-578358ae14e1"
      },
      "source": [
        "## 🧪 Step 5: Train/Test Split\n",
        "\n",
        "We split our dataset into training and testing subsets using an 80/20 ratio to evaluate model performance fairly.\n"
      ]
    },
    {
      "cell_type": "code",
      "execution_count": null,
      "id": "3556f97f-d0ba-4ed4-876b-877f21ece610",
      "metadata": {
        "colab": {
          "base_uri": "https://localhost:8080/"
        },
        "id": "3556f97f-d0ba-4ed4-876b-877f21ece610",
        "outputId": "e0075af5-0f09-491b-a0ec-6d31ff5754a9"
      },
      "outputs": [
        {
          "output_type": "stream",
          "name": "stdout",
          "text": [
            "✅ Data ready for training\n"
          ]
        }
      ],
      "source": [
        "X_train, X_test, y_train, y_test = train_test_split(X_scaled, y, test_size=0.2, random_state=42)\n",
        "print(\"✅ Data ready for training\")"
      ]
    },
    {
      "cell_type": "markdown",
      "id": "c4c7c09f-7dd4-4b71-a0ce-7b52108e06fe",
      "metadata": {
        "id": "c4c7c09f-7dd4-4b71-a0ce-7b52108e06fe"
      },
      "source": [
        "## 🤖 Step 6: Train Models (Logistic Regression & Random Forest)\n",
        "\n",
        "We train two popular machine learning models:\n",
        "- Logistic Regression\n",
        "- Random Forest Classifier"
      ]
    },
    {
      "cell_type": "code",
      "execution_count": null,
      "id": "46548566-2703-4a8f-94a9-d210618aa673",
      "metadata": {
        "id": "46548566-2703-4a8f-94a9-d210618aa673"
      },
      "outputs": [],
      "source": [
        "from sklearn.linear_model import LogisticRegression\n",
        "from sklearn.ensemble import RandomForestClassifier\n",
        "\n",
        "# Train Logistic Regression\n",
        "lr = LogisticRegression()\n",
        "lr.fit(X_train, y_train)\n",
        "y_pred_lr = lr.predict(X_test)\n",
        "\n",
        "# Train Random Forest\n",
        "rf = RandomForestClassifier()\n",
        "rf.fit(X_train, y_train)\n",
        "y_pred_rf = rf.predict(X_test)"
      ]
    },
    {
      "cell_type": "markdown",
      "id": "b6a697a2-bddf-4265-a7c4-e9ed652d3e71",
      "metadata": {
        "id": "b6a697a2-bddf-4265-a7c4-e9ed652d3e71"
      },
      "source": [
        "## 📊 Step 7: Model Evaluation\n",
        "\n",
        "We evaluate both models using:\n",
        "- Accuracy\n",
        "- Precision\n",
        "- Recall\n",
        "- F1-score\n",
        "\n",
        "The `classification_report` shows detailed metrics for each model's performance on the test set.\n"
      ]
    },
    {
      "cell_type": "code",
      "execution_count": null,
      "id": "b3f34b2b-6b04-447a-88c0-4293b13f623a",
      "metadata": {
        "colab": {
          "base_uri": "https://localhost:8080/"
        },
        "id": "b3f34b2b-6b04-447a-88c0-4293b13f623a",
        "outputId": "5375d26d-f107-4882-c5e8-53ae228365a0"
      },
      "outputs": [
        {
          "output_type": "stream",
          "name": "stdout",
          "text": [
            "📊 Logistic Regression Report:\n",
            "              precision    recall  f1-score   support\n",
            "\n",
            "           0       0.93      0.97      0.95      1727\n",
            "           1       0.71      0.51      0.60       273\n",
            "\n",
            "    accuracy                           0.91      2000\n",
            "   macro avg       0.82      0.74      0.77      2000\n",
            "weighted avg       0.90      0.91      0.90      2000\n",
            "\n",
            "\n",
            "📊 Random Forest Report:\n",
            "              precision    recall  f1-score   support\n",
            "\n",
            "           0       1.00      1.00      1.00      1727\n",
            "           1       1.00      1.00      1.00       273\n",
            "\n",
            "    accuracy                           1.00      2000\n",
            "   macro avg       1.00      1.00      1.00      2000\n",
            "weighted avg       1.00      1.00      1.00      2000\n",
            "\n"
          ]
        }
      ],
      "source": [
        "from sklearn.metrics import classification_report\n",
        "\n",
        "print(\"📊 Logistic Regression Report:\")\n",
        "print(classification_report(y_test, y_pred_lr))\n",
        "\n",
        "print(\"\\n📊 Random Forest Report:\")\n",
        "print(classification_report(y_test, y_pred_rf))"
      ]
    },
    {
      "cell_type": "markdown",
      "id": "e2409538-6a24-4a1e-92ca-87f3389a8994",
      "metadata": {
        "id": "e2409538-6a24-4a1e-92ca-87f3389a8994"
      },
      "source": [
        "## 📉 Step 8: Confusion Matrix\n",
        "\n",
        "We visualize the confusion matrix for the **Random Forest Classifier** to better understand the model's classification performance.\n"
      ]
    },
    {
      "cell_type": "code",
      "execution_count": null,
      "id": "3be20726-41d8-4adb-a97c-732ff6c2392d",
      "metadata": {
        "colab": {
          "base_uri": "https://localhost:8080/",
          "height": 472
        },
        "id": "3be20726-41d8-4adb-a97c-732ff6c2392d",
        "outputId": "10c4541b-06a8-4e35-98b6-a5298707a895"
      },
      "outputs": [
        {
          "output_type": "display_data",
          "data": {
            "text/plain": [
              "<Figure size 640x480 with 2 Axes>"
            ],
            "image/png": "[encoded data removed]"
          },
          "metadata": {}
        }
      ],
      "source": [
        "import matplotlib.pyplot as plt\n",
        "from sklearn.metrics import ConfusionMatrixDisplay\n",
        "\n",
        "ConfusionMatrixDisplay.from_estimator(rf, X_test, y_test)\n",
        "plt.title(\"Confusion Matrix - Random Forest\")\n",
        "plt.show()"
      ]
    },
    {
      "cell_type": "markdown",
      "id": "42cf38c3-723b-4fdb-aa5c-a8a73659a94e",
      "metadata": {
        "id": "42cf38c3-723b-4fdb-aa5c-a8a73659a94e"
      },
      "source": [
        "## 📌 Step 9: Feature Importance (Random Forest)\n",
        "\n",
        "We use the feature importances generated by the Random Forest model to identify which variables contribute most to predicting intern performance. This helps mentors focus on the most influential performance factors.\n"
      ]
    },
    {
      "cell_type": "code",
      "execution_count": null,
      "id": "c5b74a7a-b946-4d07-be0e-95b34d8b653c",
      "metadata": {
        "colab": {
          "base_uri": "https://localhost:8080/",
          "height": 472
        },
        "id": "c5b74a7a-b946-4d07-be0e-95b34d8b653c",
        "outputId": "f9ef9b2c-d8b7-4533-9393-4bbe7a15088a"
      },
      "outputs": [
        {
          "output_type": "display_data",
          "data": {
            "text/plain": [
              "<Figure size 640x480 with 1 Axes>"
            ],
            "image/png": "[encoded data removed]"
          },
          "metadata": {}
        }
      ],
      "source": [
        "import seaborn as sns\n",
        "\n",
        "importances = rf.feature_importances_\n",
        "feature_names = features\n",
        "\n",
        "sns.barplot(x=importances, y=feature_names)\n",
        "plt.title(\"Feature Importance\")\n",
        "plt.xlabel(\"Importance\")\n",
        "plt.ylabel(\"Features\")\n",
        "plt.show()"
      ]
    },
    {
      "cell_type": "markdown",
      "id": "b52c13af-8806-4355-b3a4-746d16e8cb1a",
      "metadata": {
        "id": "b52c13af-8806-4355-b3a4-746d16e8cb1a"
      },
      "source": [
        "✅ **End of Notebook**"
      ]
    },
    {
      "cell_type": "markdown",
      "source": [
        "# 📦 Step 1: Load the Trained Model and Scaler\n",
        "This step loads:\n",
        "- **`intern_performance_model.pkl`** → the machine learning model we trained earlier.\n",
        "- **`intern_scaler.pkl`** → the StandardScaler used to normalize the features during training.\n",
        "\n",
        "We load these so we can preprocess and predict on the new intern data in exactly the same way as the training phase.\n"
      ],
      "metadata": {
        "id": "bYlCs69gVrzh"
      },
      "id": "bYlCs69gVrzh"
    },
    {
      "cell_type": "code",
      "execution_count": 36,
      "id": "f0d5f049-169d-45fd-a7ed-fd623c6de6ac",
      "metadata": {
        "id": "f0d5f049-169d-45fd-a7ed-fd623c6de6ac"
      },
      "outputs": [],
      "source": [
        "import joblib\n",
        "\n",
        "# Load trained model and scaler\n",
        "model = joblib.load(\"intern_performance_model.pkl\")\n",
        "scaler = joblib.load(\"intern_scaler.pkl\")\n"
      ]
    },
    {
      "cell_type": "markdown",
      "source": [
        "# 📦 Step 2: Load and Preview New Intern Data\n",
        "In this step:\n",
        "- We load the **new test dataset** (`Test_data.xlsx`), which contains details of interns whose performance we want to predict.\n",
        "- We **preview the first few rows** to make sure the file loaded correctly and has the expected columns.\n"
      ],
      "metadata": {
        "id": "cC72z0xRVu0I"
      },
      "id": "cC72z0xRVu0I"
    },
    {
      "cell_type": "code",
      "source": [
        "import pandas as pd\n",
        "\n",
        "# Load new intern data (you uploaded this earlier)\n",
        "new_data = pd.read_excel(\"/content/drive/MyDrive/hammad ds/Test_data.xlsx\")\n",
        "\n",
        "# Preview to confirm\n",
        "print(new_data.head())\n"
      ],
      "metadata": {
        "colab": {
          "base_uri": "https://localhost:8080/"
        },
        "id": "1ZLCFNozKlZ4",
        "outputId": "abd5d642-c3ae-407d-d0a7-63ebfc970795"
      },
      "id": "1ZLCFNozKlZ4",
      "execution_count": 37,
      "outputs": [
        {
          "output_type": "stream",
          "name": "stdout",
          "text": [
            "  intern_id department  attendance_rate  task_completion_rate  \\\n",
            "0  INT10001       Tech               90                    85   \n",
            "1  INT10002         HR               70                    60   \n",
            "2  INT10003  Marketing               95                    90   \n",
            "3  INT10004         HR               80                    70   \n",
            "\n",
            "   avg_feedback_score  hours_per_week  final_assessment_score  \\\n",
            "0                 4.2              38                      80   \n",
            "1                 3.0              30                      65   \n",
            "2                 4.8              40                      95   \n",
            "3                 3.0              38                      70   \n",
            "\n",
            "  interaction_level  \n",
            "0              High  \n",
            "1            Medium  \n",
            "2              High  \n",
            "3            Medium  \n"
          ]
        }
      ]
    },
    {
      "cell_type": "markdown",
      "source": [
        "# 📦 Step 3: Preprocess Data and Make Predictions\n",
        "Here’s what we do in this step:\n",
        "1. Save `intern_id` separately so we can show it in the final results.\n",
        "2. Encode the categorical columns:\n",
        "   - **`department`** → becomes `department_encoded`\n",
        "   - **`interaction_level`** → becomes `interaction_level_encoded`\n",
        "3. Drop the original text columns and keep only numeric features.\n",
        "4. Arrange columns in the same order used during training.\n",
        "5. Handle missing values (forward fill, as in training).\n",
        "6. Apply scaling using the trained `scaler`.\n",
        "7. Predict performance using the trained `model`.\n",
        "8. Map the numeric prediction (`0` or `1`) to human-readable labels.\n",
        "9. Display a results table with `Intern ID` and predicted performance.\n"
      ],
      "metadata": {
        "id": "9T7LgpshVx7_"
      },
      "id": "9T7LgpshVx7_"
    },
    {
      "cell_type": "code",
      "source": [
        "import pandas as pd\n",
        "import joblib\n",
        "\n",
        "# Load model and scaler\n",
        "model = joblib.load(\"intern_performance_model.pkl\")\n",
        "scaler = joblib.load(\"intern_scaler.pkl\")\n",
        "\n",
        "# Load new test data\n",
        "new_data = pd.read_excel(\"/content/drive/MyDrive/hammad ds/Test_data.xlsx\")\n",
        "\n",
        "# Save intern IDs\n",
        "intern_ids = new_data['intern_id']\n",
        "\n",
        "# Encode categorical features\n",
        "new_data['department_encoded'] = new_data['department'].astype('category').cat.codes\n",
        "new_data['interaction_level_encoded'] = new_data['interaction_level'].astype('category').cat.codes\n",
        "\n",
        "# Drop original non-numeric columns\n",
        "features = new_data.drop(columns=['intern_id', 'department', 'interaction_level'])\n",
        "\n",
        "# Reorder columns if needed (optional but safer if training order matters)\n",
        "expected_columns = [\n",
        "    'attendance_rate',\n",
        "    'task_completion_rate',\n",
        "    'avg_feedback_score',\n",
        "    'hours_per_week',\n",
        "    'final_assessment_score',\n",
        "    'department_encoded',\n",
        "    'interaction_level_encoded'\n",
        "]\n",
        "features = features[expected_columns]\n",
        "\n",
        "# Handle missing values\n",
        "features = features.ffill()\n",
        "\n",
        "# Scale\n",
        "scaled_features = scaler.transform(features)\n",
        "\n",
        "# Predict\n",
        "predictions = model.predict(scaled_features)\n",
        "\n",
        "# Map results\n",
        "label_map = {1: 'High Performer', 0: 'Not High Performer'}\n",
        "predicted_labels = [label_map[p] for p in predictions]\n",
        "\n",
        "# Combine results\n",
        "result_df = pd.DataFrame({\n",
        "    'Intern ID': intern_ids,\n",
        "    'Predicted Performance': predicted_labels\n",
        "})\n",
        "\n",
        "# Show\n",
        "print(result_df)\n",
        "\n",
        "# Optional: Save to file\n",
        "# result_df.to_excel(\"intern_predictions.xlsx\", index=False)\n"
      ],
      "metadata": {
        "colab": {
          "base_uri": "https://localhost:8080/"
        },
        "id": "UzSQDlQpR_Gy",
        "outputId": "d5d23ca3-c9b8-4ced-8575-0bcdffc6ac17"
      },
      "id": "UzSQDlQpR_Gy",
      "execution_count": 38,
      "outputs": [
        {
          "output_type": "stream",
          "name": "stdout",
          "text": [
            "  Intern ID Predicted Performance\n",
            "0  INT10001        High Performer\n",
            "1  INT10002    Not High Performer\n",
            "2  INT10003        High Performer\n",
            "3  INT10004    Not High Performer\n"
          ]
        }
      ]
    },
    {
      "cell_type": "code",
      "source": [
        "pip install streamlit pandas numpy joblib"
      ],
      "metadata": {
        "colab": {
          "base_uri": "https://localhost:8080/"
        },
        "id": "FKpCbsnCWyVj",
        "outputId": "499e5c2c-e328-4d0d-9ad3-6c5897bd6b62"
      },
      "id": "FKpCbsnCWyVj",
      "execution_count": 40,
      "outputs": [
        {
          "output_type": "stream",
          "name": "stdout",
          "text": [
            "Collecting streamlit\n",
            "  Downloading streamlit-1.48.0-py3-none-any.whl.metadata (9.5 kB)\n",
            "Requirement already satisfied: pandas in /usr/local/lib/python3.11/dist-packages (2.2.2)\n",
            "Requirement already satisfied: numpy in /usr/local/lib/python3.11/dist-packages (2.0.2)\n",
            "Requirement already satisfied: joblib in /usr/local/lib/python3.11/dist-packages (1.5.1)\n",
            "Requirement already satisfied: altair!=5.4.0,!=5.4.1,<6,>=4.0 in /usr/local/lib/python3.11/dist-packages (from streamlit) (5.5.0)\n",
            "Requirement already satisfied: blinker<2,>=1.5.0 in /usr/local/lib/python3.11/dist-packages (from streamlit) (1.9.0)\n",
            "Requirement already satisfied: cachetools<7,>=4.0 in /usr/local/lib/python3.11/dist-packages (from streamlit) (5.5.2)\n",
            "Requirement already satisfied: click<9,>=7.0 in /usr/local/lib/python3.11/dist-packages (from streamlit) (8.2.1)\n",
            "Requirement already satisfied: packaging<26,>=20 in /usr/local/lib/python3.11/dist-packages (from streamlit) (25.0)\n",
            "Requirement already satisfied: pillow<12,>=7.1.0 in /usr/local/lib/python3.11/dist-packages (from streamlit) (11.3.0)\n",
            "Requirement already satisfied: protobuf<7,>=3.20 in /usr/local/lib/python3.11/dist-packages (from streamlit) (5.29.5)\n",
            "Requirement already satisfied: pyarrow>=7.0 in /usr/local/lib/python3.11/dist-packages (from streamlit) (18.1.0)\n",
            "Requirement already satisfied: requests<3,>=2.27 in /usr/local/lib/python3.11/dist-packages (from streamlit) (2.32.3)\n",
            "Requirement already satisfied: tenacity<10,>=8.1.0 in /usr/local/lib/python3.11/dist-packages (from streamlit) (8.5.0)\n",
            "Requirement already satisfied: toml<2,>=0.10.1 in /usr/local/lib/python3.11/dist-packages (from streamlit) (0.10.2)\n",
            "Requirement already satisfied: typing-extensions<5,>=4.4.0 in /usr/local/lib/python3.11/dist-packages (from streamlit) (4.14.1)\n",
            "Collecting watchdog<7,>=2.1.5 (from streamlit)\n",
            "  Downloading watchdog-6.0.0-py3-none-manylinux2014_x86_64.whl.metadata (44 kB)\n",
            "\u001b[2K     \u001b[90m━━━━━━━━━━━━━━━━━━━━━━━━━━━━━━━━━━━━━━━━\u001b[0m \u001b[32m44.3/44.3 kB\u001b[0m \u001b[31m3.6 MB/s\u001b[0m eta \u001b[36m0:00:00\u001b[0m\n",
            "\u001b[?25hRequirement already satisfied: gitpython!=3.1.19,<4,>=3.0.7 in /usr/local/lib/python3.11/dist-packages (from streamlit) (3.1.45)\n",
            "Collecting pydeck<1,>=0.8.0b4 (from streamlit)\n",
            "  Downloading pydeck-0.9.1-py2.py3-none-any.whl.metadata (4.1 kB)\n",
            "Requirement already satisfied: tornado!=6.5.0,<7,>=6.0.3 in /usr/local/lib/python3.11/dist-packages (from streamlit) (6.4.2)\n",
            "Requirement already satisfied: python-dateutil>=2.8.2 in /usr/local/lib/python3.11/dist-packages (from pandas) (2.9.0.post0)\n",
            "Requirement already satisfied: pytz>=2020.1 in /usr/local/lib/python3.11/dist-packages (from pandas) (2025.2)\n",
            "Requirement already satisfied: tzdata>=2022.7 in /usr/local/lib/python3.11/dist-packages (from pandas) (2025.2)\n",
            "Requirement already satisfied: jinja2 in /usr/local/lib/python3.11/dist-packages (from altair!=5.4.0,!=5.4.1,<6,>=4.0->streamlit) (3.1.6)\n",
            "Requirement already satisfied: jsonschema>=3.0 in /usr/local/lib/python3.11/dist-packages (from altair!=5.4.0,!=5.4.1,<6,>=4.0->streamlit) (4.25.0)\n",
            "Requirement already satisfied: narwhals>=1.14.2 in /usr/local/lib/python3.11/dist-packages (from altair!=5.4.0,!=5.4.1,<6,>=4.0->streamlit) (2.0.1)\n",
            "Requirement already satisfied: gitdb<5,>=4.0.1 in /usr/local/lib/python3.11/dist-packages (from gitpython!=3.1.19,<4,>=3.0.7->streamlit) (4.0.12)\n",
            "Requirement already satisfied: six>=1.5 in /usr/local/lib/python3.11/dist-packages (from python-dateutil>=2.8.2->pandas) (1.17.0)\n",
            "Requirement already satisfied: charset-normalizer<4,>=2 in /usr/local/lib/python3.11/dist-packages (from requests<3,>=2.27->streamlit) (3.4.2)\n",
            "Requirement already satisfied: idna<4,>=2.5 in /usr/local/lib/python3.11/dist-packages (from requests<3,>=2.27->streamlit) (3.10)\n",
            "Requirement already satisfied: urllib3<3,>=1.21.1 in /usr/local/lib/python3.11/dist-packages (from requests<3,>=2.27->streamlit) (2.5.0)\n",
            "Requirement already satisfied: certifi>=2017.4.17 in /usr/local/lib/python3.11/dist-packages (from requests<3,>=2.27->streamlit) (2025.8.3)\n",
            "Requirement already satisfied: smmap<6,>=3.0.1 in /usr/local/lib/python3.11/dist-packages (from gitdb<5,>=4.0.1->gitpython!=3.1.19,<4,>=3.0.7->streamlit) (5.0.2)\n",
            "Requirement already satisfied: MarkupSafe>=2.0 in /usr/local/lib/python3.11/dist-packages (from jinja2->altair!=5.4.0,!=5.4.1,<6,>=4.0->streamlit) (3.0.2)\n",
            "Requirement already satisfied: attrs>=22.2.0 in /usr/local/lib/python3.11/dist-packages (from jsonschema>=3.0->altair!=5.4.0,!=5.4.1,<6,>=4.0->streamlit) (25.3.0)\n",
            "Requirement already satisfied: jsonschema-specifications>=2023.03.6 in /usr/local/lib/python3.11/dist-packages (from jsonschema>=3.0->altair!=5.4.0,!=5.4.1,<6,>=4.0->streamlit) (2025.4.1)\n",
            "Requirement already satisfied: referencing>=0.28.4 in /usr/local/lib/python3.11/dist-packages (from jsonschema>=3.0->altair!=5.4.0,!=5.4.1,<6,>=4.0->streamlit) (0.36.2)\n",
            "Requirement already satisfied: rpds-py>=0.7.1 in /usr/local/lib/python3.11/dist-packages (from jsonschema>=3.0->altair!=5.4.0,!=5.4.1,<6,>=4.0->streamlit) (0.26.0)\n",
            "Downloading streamlit-1.48.0-py3-none-any.whl (9.9 MB)\n",
            "\u001b[2K   \u001b[90m━━━━━━━━━━━━━━━━━━━━━━━━━━━━━━━━━━━━━━━━\u001b[0m \u001b[32m9.9/9.9 MB\u001b[0m \u001b[31m80.6 MB/s\u001b[0m eta \u001b[36m0:00:00\u001b[0m\n",
            "\u001b[?25hDownloading pydeck-0.9.1-py2.py3-none-any.whl (6.9 MB)\n",
            "\u001b[2K   \u001b[90m━━━━━━━━━━━━━━━━━━━━━━━━━━━━━━━━━━━━━━━━\u001b[0m \u001b[32m6.9/6.9 MB\u001b[0m \u001b[31m91.0 MB/s\u001b[0m eta \u001b[36m0:00:00\u001b[0m\n",
            "\u001b[?25hDownloading watchdog-6.0.0-py3-none-manylinux2014_x86_64.whl (79 kB)\n",
            "\u001b[2K   \u001b[90m━━━━━━━━━━━━━━━━━━━━━━━━━━━━━━━━━━━━━━━━\u001b[0m \u001b[32m79.1/79.1 kB\u001b[0m \u001b[31m8.0 MB/s\u001b[0m eta \u001b[36m0:00:00\u001b[0m\n",
            "\u001b[?25hInstalling collected packages: watchdog, pydeck, streamlit\n",
            "Successfully installed pydeck-0.9.1 streamlit-1.48.0 watchdog-6.0.0\n"
          ]
        }
      ]
    }
  ],
  "metadata": {
    "kernelspec": {
      "display_name": "Python 3",
      "name": "python3"
    },
    "language_info": {
      "codemirror_mode": {
        "name": "ipython",
        "version": 3
      },
      "file_extension": ".py",
      "mimetype": "text/x-python",
      "name": "python",
      "nbconvert_exporter": "python",
      "pygments_lexer": "ipython3",
      "version": "3.11.7"
    },
    "colab": {
      "provenance": [],
      "gpuType": "T4"
    },
    "accelerator": "GPU"
  },
  "nbformat": 4,
  "nbformat_minor": 5
}